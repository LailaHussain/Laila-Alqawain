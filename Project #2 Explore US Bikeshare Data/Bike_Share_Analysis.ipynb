{
 "cells": [
  {
   "cell_type": "markdown",
   "metadata": {},
   "source": [
    "# 2016 US Bike Share Activity Snapshot\n",
    "\n",
    "## Table of Contents\n",
    "- [Introduction](#intro)\n",
    "- [Posing Questions](#pose_questions)\n",
    "- [Data Collection and Wrangling](#wrangling)\n",
    "  - [Condensing the Trip Data](#condensing)\n",
    "- [Exploratory Data Analysis](#eda)\n",
    "  - [Statistics](#statistics)\n",
    "  - [Visualizations](#visualizations)\n",
    "- [Performing Your Own Analysis](#eda_continued)\n",
    "- [Conclusions](#conclusions)\n",
    "\n",
    "<a id='intro'></a>\n",
    "## Introduction\n",
    "\n",
    "> **Tip**: Quoted sections like this will provide helpful instructions on how to navigate and use a Jupyter notebook.\n",
    "\n",
    "Over the past decade, bicycle-sharing systems have been growing in number and popularity in cities across the world. Bicycle-sharing systems allow users to rent bicycles for short trips, typically 30 minutes or less. Thanks to the rise in information technologies, it is easy for a user of the system to access a dock within the system to unlock or return bicycles. These technologies also provide a wealth of data that can be used to explore how these bike-sharing systems are used.\n",
    "\n",
    "In this project, you will perform an exploratory analysis on data provided by [Motivate](https://www.motivateco.com/), a bike-share system provider for many major cities in the United States. You will compare the system usage between three large cities: New York City, Chicago, and Washington, DC. You will also see if there are any differences within each system for those users that are registered, regular users and those users that are short-term, casual users."
   ]
  },
  {
   "cell_type": "markdown",
   "metadata": {},
   "source": [
    "<a id='pose_questions'></a>\n",
    "## Posing Questions\n",
    "\n",
    "Before looking at the bike sharing data, you should start by asking questions you might want to understand about the bike share data. Consider, for example, if you were working for Motivate. What kinds of information would you want to know about in order to make smarter business decisions? If you were a user of the bike-share service, what factors might influence how you would want to use the service?\n",
    "\n",
    "**Question 1**: Write at least two questions related to bike sharing that you think could be answered by data.\n",
    "\n",
    "**Answer**: If I were working for Motivate, I could be want to know these: \n",
    "\n",
    "1- Who are the users that had the long trip duration?\n",
    "2- Which station receives the most number of users?\n",
    "\n",
    "If I were using the services for Motivate, I could be  want to know these:\n",
    "\n",
    "1- What are the places that stations in?\n",
    "2- What are the types of users and trips duration?\n",
    "\n",
    "> **Tip**: If you double click on this cell, you will see the text change so that all of the formatting is removed. This allows you to edit this block of text. This block of text is written using [Markdown](http://daringfireball.net/projects/markdown/syntax), which is a way to format text using headers, links, italics, and many other options using a plain-text syntax. You will also use Markdown later in the Nanodegree program. Use **Shift** + **Enter** or **Shift** + **Return** to run the cell and show its rendered form."
   ]
  },
  {
   "cell_type": "markdown",
   "metadata": {},
   "source": [
    "<a id='wrangling'></a>\n",
    "## Data Collection and Wrangling\n",
    "\n",
    "Now it's time to collect and explore our data. In this project, we will focus on the record of individual trips taken in 2016 from our selected cities: New York City, Chicago, and Washington, DC. Each of these cities has a page where we can freely download the trip data.:\n",
    "\n",
    "- New York City (Citi Bike): [Link](https://www.citibikenyc.com/system-data)\n",
    "- Chicago (Divvy): [Link](https://www.divvybikes.com/system-data)\n",
    "- Washington, DC (Capital Bikeshare): [Link](https://www.capitalbikeshare.com/system-data)\n",
    "\n",
    "If you visit these pages, you will notice that each city has a different way of delivering its data. Chicago updates with new data twice a year, Washington DC is quarterly, and New York City is monthly. **However, you do not need to download the data yourself.** The data has already been collected for you in the `/data/` folder of the project files. While the original data for 2016 is spread among multiple files for each city, the files in the `/data/` folder collect all of the trip data for the year into one file per city. Some data wrangling of inconsistencies in timestamp format within each city has already been performed for you. In addition, a random 2% sample of the original data is taken to make the exploration more manageable. \n",
    "\n",
    "**Question 2**: However, there is still a lot of data for us to investigate, so it's a good idea to start off by looking at one entry from each of the cities we're going to analyze. Run the first code cell below to load some packages and functions that you'll be using in your analysis. Then, complete the second code cell to print out the first trip recorded from each of the cities (the second line of each data file).\n",
    "\n",
    "> **Tip**: You can run a code cell like you formatted Markdown cells above by clicking on the cell and using the keyboard shortcut **Shift** + **Enter** or **Shift** + **Return**. Alternatively, a code cell can be executed using the **Play** button in the toolbar after selecting it. While the cell is running, you will see an asterisk in the message to the left of the cell, i.e. `In [*]:`. The asterisk will change into a number to show that execution has completed, e.g. `In [1]`. If there is output, it will show up as `Out [1]:`, with an appropriate number to match the \"In\" number."
   ]
  },
  {
   "cell_type": "code",
   "execution_count": 11,
   "metadata": {},
   "outputs": [],
   "source": [
    "## import all necessary packages and functions.\n",
    "import csv # read and write csv files\n",
    "from datetime import datetime # operations to parse dates\n",
    "from pprint import pprint # use to print data structures like dictionaries in\n",
    "                          # a nicer way than the base print function."
   ]
  },
  {
   "cell_type": "code",
   "execution_count": 14,
   "metadata": {},
   "outputs": [
    {
     "name": "stdout",
     "output_type": "stream",
     "text": [
      "\n",
      "City: NYC\n",
      "OrderedDict([('tripduration', '839'),\n",
      "             ('starttime', '1/1/2016 00:09:55'),\n",
      "             ('stoptime', '1/1/2016 00:23:54'),\n",
      "             ('start station id', '532'),\n",
      "             ('start station name', 'S 5 Pl & S 4 St'),\n",
      "             ('start station latitude', '40.710451'),\n",
      "             ('start station longitude', '-73.960876'),\n",
      "             ('end station id', '401'),\n",
      "             ('end station name', 'Allen St & Rivington St'),\n",
      "             ('end station latitude', '40.72019576'),\n",
      "             ('end station longitude', '-73.98997825'),\n",
      "             ('bikeid', '17109'),\n",
      "             ('usertype', 'Customer'),\n",
      "             ('birth year', ''),\n",
      "             ('gender', '0')])\n",
      "\n",
      "City: Chicago\n",
      "OrderedDict([('trip_id', '9080545'),\n",
      "             ('starttime', '3/31/2016 23:30'),\n",
      "             ('stoptime', '3/31/2016 23:46'),\n",
      "             ('bikeid', '2295'),\n",
      "             ('tripduration', '926'),\n",
      "             ('from_station_id', '156'),\n",
      "             ('from_station_name', 'Clark St & Wellington Ave'),\n",
      "             ('to_station_id', '166'),\n",
      "             ('to_station_name', 'Ashland Ave & Wrightwood Ave'),\n",
      "             ('usertype', 'Subscriber'),\n",
      "             ('gender', 'Male'),\n",
      "             ('birthyear', '1990')])\n",
      "\n",
      "City: Washington\n",
      "OrderedDict([('Duration (ms)', '427387'),\n",
      "             ('Start date', '3/31/2016 22:57'),\n",
      "             ('End date', '3/31/2016 23:04'),\n",
      "             ('Start station number', '31602'),\n",
      "             ('Start station', 'Park Rd & Holmead Pl NW'),\n",
      "             ('End station number', '31207'),\n",
      "             ('End station', 'Georgia Ave and Fairmont St NW'),\n",
      "             ('Bike number', 'W20842'),\n",
      "             ('Member Type', 'Registered')])\n"
     ]
    }
   ],
   "source": [
    "def print_first_point(filename):\n",
    "    \"\"\"\n",
    "    This function prints and returns the first data point (second row) from\n",
    "    a csv file that includes a header row.\n",
    "    \"\"\"\n",
    "    # print city name for reference\n",
    "    city = filename.split('-')[0].split('/')[-1]\n",
    "    print('\\nCity: {}'.format(city))\n",
    "    \n",
    "    with open(filename, 'r') as f_in:\n",
    "        ## TODO: Use the csv library to set up a DictReader object. ##\n",
    "        ## see https://docs.python.org/3/library/csv.html           ##\n",
    "        trip_reader = csv.DictReader(f_in)\n",
    "        \n",
    "        ## TODO: Use a function on the DictReader object to read the     ##\n",
    "        ## first trip from the data file and store it in a variable.     ##\n",
    "        ## see https://docs.python.org/3/library/csv.html#reader-objects ##\n",
    "        first_trip = trip_reader.__next__()\n",
    "            \n",
    "        \n",
    "        ## TODO: Use the pprint library to print the first trip. ##\n",
    "        ## see https://docs.python.org/3/library/pprint.html     ##\n",
    "        pprint(first_trip)\n",
    "    # output city name and first trip for later testing\n",
    "    return (city, first_trip)\n",
    "\n",
    "# list of files for each city\n",
    "data_files = ['./data/NYC-CitiBike-2016.csv',\n",
    "              './data/Chicago-Divvy-2016.csv',\n",
    "              './data/Washington-CapitalBikeshare-2016.csv',]\n",
    "\n",
    "# print the first trip from each file, store in dictionary\n",
    "example_trips = {}\n",
    "for data_file in data_files:\n",
    "    city, first_trip = print_first_point(data_file)\n",
    "    example_trips[city] = first_trip"
   ]
  },
  {
   "cell_type": "markdown",
   "metadata": {},
   "source": [
    "If everything has been filled out correctly, you should see below the printout of each city name (which has been parsed from the data file name) that the first trip has been parsed in the form of a dictionary. When you set up a `DictReader` object, the first row of the data file is normally interpreted as column names. Every other row in the data file will use those column names as keys, as a dictionary is generated for each row.\n",
    "\n",
    "This will be useful since we can refer to quantities by an easily-understandable label instead of just a numeric index. For example, if we have a trip stored in the variable `row`, then we would rather get the trip duration from `row['duration']` instead of `row[0]`.\n",
    "\n",
    "<a id='condensing'></a>\n",
    "### Condensing the Trip Data\n",
    "\n",
    "It should also be observable from the above printout that each city provides different information. Even where the information is the same, the column names and formats are sometimes different. To make things as simple as possible when we get to the actual exploration, we should trim and clean the data. Cleaning the data makes sure that the data formats across the cities are consistent, while trimming focuses only on the parts of the data we are most interested in to make the exploration easier to work with.\n",
    "\n",
    "You will generate new data files with five values of interest for each trip: trip duration, starting month, starting hour, day of the week, and user type. Each of these may require additional wrangling depending on the city:\n",
    "\n",
    "- **Duration**: This has been given to us in seconds (New York, Chicago) or milliseconds (Washington). A more natural unit of analysis will be if all the trip durations are given in terms of minutes.\n",
    "- **Month**, **Hour**, **Day of Week**: Ridership volume is likely to change based on the season, time of day, and whether it is a weekday or weekend. Use the start time of the trip to obtain these values. The New York City data includes the seconds in their timestamps, while Washington and Chicago do not. The [`datetime`](https://docs.python.org/3/library/datetime.html) package will be very useful here to make the needed conversions.\n",
    "- **User Type**: It is possible that users who are subscribed to a bike-share system will have different patterns of use compared to users who only have temporary passes. Washington divides its users into two types: 'Registered' for users with annual, monthly, and other longer-term subscriptions, and 'Casual', for users with 24-hour, 3-day, and other short-term passes. The New York and Chicago data uses 'Subscriber' and 'Customer' for these groups, respectively. For consistency, you will convert the Washington labels to match the other two.\n",
    "\n",
    "\n",
    "**Question 3a**: Complete the helper functions in the code cells below to address each of the cleaning tasks described above."
   ]
  },
  {
   "cell_type": "code",
   "execution_count": 15,
   "metadata": {},
   "outputs": [],
   "source": [
    "def duration_in_mins(datum, city):\n",
    "    \"\"\"\n",
    "    Takes as input a dictionary containing info about a single trip (datum) and\n",
    "    its origin city (city) and returns the trip duration in units of minutes.\n",
    "    \n",
    "    Remember that Washington is in terms of milliseconds while Chicago and NYC\n",
    "    are in terms of seconds. \n",
    "    \n",
    "    HINT: The csv module reads in all of the data as strings, including numeric\n",
    "    values. You will need a function to convert the strings into an appropriate\n",
    "    numeric type when making your transformations.\n",
    "    see https://docs.python.org/3/library/functions.html\n",
    "    \"\"\"\n",
    "    if city == 'Washington':\n",
    "        # Washington has the time duration in milliseconds\n",
    "        # convert millisecond to Minutes by dividing with 60,000\n",
    "        # print(type(datum))\n",
    "        # print(datum)\n",
    "        # print(datum['Duration (ms)'])\n",
    "        duration = (float(datum['Duration (ms)'])/60000)\n",
    "    elif city == 'Chicago' or city == 'NYC':\n",
    "        # Chicago and NYC has the time in seconds\n",
    "        # convert seconds to minutes by dividing with 60\n",
    "        # print(datum['tripduration'])\n",
    "        duration = (float(datum['tripduration'])/60)\n",
    "    else:\n",
    "        print('Invalid City')\n",
    "    \n",
    "    return duration\n",
    "\n",
    "\n",
    "# Some tests to check that your code works. There should be no output if all of\n",
    "# the assertions pass. The `example_trips` dictionary was obtained from when\n",
    "# you printed the first trip from each of the original data files.\n",
    "tests = {'NYC': 13.9833,\n",
    "         'Chicago': 15.4333,\n",
    "         'Washington': 7.1231}\n",
    "\n",
    "for city in tests:\n",
    "    assert abs(duration_in_mins(example_trips[city], city) - tests[city]) < .001"
   ]
  },
  {
   "cell_type": "code",
   "execution_count": 16,
   "metadata": {},
   "outputs": [],
   "source": [
    "def time_of_trip(datum, city):\n",
    "    \"\"\"\n",
    "    Takes as input a dictionary containing info about a single trip (datum) and\n",
    "    its origin city (city) and returns the month, hour, and day of the week in\n",
    "    which the trip was made.\n",
    "    \n",
    "    Remember that NYC includes seconds, while Washington and Chicago do not.\n",
    "    \n",
    "    HINT: You should use the datetime module to parse the original date\n",
    "    strings into a format that is useful for extracting the desired information.\n",
    "    see https://docs.python.org/3/library/datetime.html#strftime-and-strptime-behavior\n",
    "    \"\"\"\n",
    "    \n",
    "    # strptime(...) is String Parse Time\n",
    "    # strftime(...) is String Format Time\n",
    "    \n",
    "    # Converted 'month' and 'hour' to Integers to remove leading Zero's.\n",
    "    \n",
    "    if city == 'Washington':\n",
    "        # Washington has 'Start date' as '3/31/2016 22:57'\n",
    "        # and 'End date' as '3/31/2016 23:04'\n",
    "        # print(datum['Start date'])\n",
    "        month = int(datetime.strptime(datum['Start date'],\"%m/%d/%Y %H:%M\").strftime('%m'))\n",
    "        hour = int(datetime.strptime(datum['Start date'],\"%m/%d/%Y %H:%M\").strftime('%H'))\n",
    "        day_of_week = datetime.strptime(datum['Start date'],\"%m/%d/%Y %H:%M\").strftime('%A')\n",
    "    elif city == 'Chicago':\n",
    "        # Chicago has 'starttime' as '3/31/2016 23:30')\n",
    "        # and 'stoptime' as '3/31/2016 23:46'\n",
    "        # print(datum['starttime'])\n",
    "        month = int(datetime.strptime(datum['starttime'],\"%m/%d/%Y %H:%M\").strftime('%m'))\n",
    "        hour = int(datetime.strptime(datum['starttime'],\"%m/%d/%Y %H:%M\").strftime('%H'))\n",
    "        day_of_week = datetime.strptime(datum['starttime'],\"%m/%d/%Y %H:%M\").strftime('%A')\n",
    "    elif city == 'NYC':\n",
    "        # NYC has 'starttime' as '1/1/2016 00:09:55')\n",
    "        # and 'stoptime' as '1/1/2016 00:23:54'\n",
    "        #print(datum['starttime'])\n",
    "        month = int(datetime.strptime(datum['starttime'],\"%m/%d/%Y %H:%M:%S\").strftime('%m'))\n",
    "        hour = int(datetime.strptime(datum['starttime'],\"%m/%d/%Y %H:%M:%S\").strftime('%H'))\n",
    "        day_of_week = datetime.strptime(datum['starttime'],\"%m/%d/%Y %H:%M:%S\").strftime('%A')\n",
    "    else:\n",
    "        print('Invalid City')\n",
    "    \n",
    "    return (month, hour, day_of_week)\n",
    "\n",
    "\n",
    "# Some tests to check that your code works. There should be no output if all of\n",
    "# the assertions pass. The `example_trips` dictionary was obtained from when\n",
    "# you printed the first trip from each of the original data files.\n",
    "tests = {'NYC': (1, 0, 'Friday'),\n",
    "         'Chicago': (3, 23, 'Thursday'),\n",
    "         'Washington': (3, 22, 'Thursday')}\n",
    "\n",
    "for city in tests:\n",
    "    assert time_of_trip(example_trips[city], city) == tests[city]"
   ]
  },
  {
   "cell_type": "code",
   "execution_count": 17,
   "metadata": {},
   "outputs": [],
   "source": [
    "def type_of_user(datum, city):\n",
    "    \"\"\"\n",
    "    Takes as input a dictionary containing info about a single trip (datum) and\n",
    "    its origin city (city) and returns the type of system user that made the\n",
    "    trip.\n",
    "    \n",
    "    Remember that Washington has different category names compared to Chicago\n",
    "    and NYC. \n",
    "    \"\"\"\n",
    "    \n",
    "    # Washington has different category names \n",
    "    # change names to reflect the categories in NYC and Chicago.\n",
    "    if city == 'Washington':\n",
    "        if datum['Member Type'] == 'Registered':\n",
    "            datum['Member Type'] = 'Subscriber'\n",
    "        elif datum['Member Type'] == 'Casual':\n",
    "            datum['Member Type'] = 'Customer'\n",
    "        else:\n",
    "            print(\"Invalid Member Type for Washington\")\n",
    "        \n",
    "        user_type = datum['Member Type']\n",
    "    elif city == 'Chicago' or city == 'NYC':\n",
    "        user_type = datum['usertype']\n",
    "    else:\n",
    "        Print(\"Invalid City\")\n",
    "    \n",
    "    return user_type\n",
    "\n",
    "\n",
    "# Some tests to check that your code works. There should be no output if all of\n",
    "# the assertions pass. The `example_trips` dictionary was obtained from when\n",
    "# you printed the first trip from each of the original data files.\n",
    "tests = {'NYC': 'Customer',\n",
    "         'Chicago': 'Subscriber',\n",
    "         'Washington': 'Subscriber'}\n",
    "\n",
    "for city in tests:\n",
    "    assert type_of_user(example_trips[city], city) == tests[city]"
   ]
  },
  {
   "cell_type": "markdown",
   "metadata": {},
   "source": [
    "**Question 3b**: Now, use the helper functions you wrote above to create a condensed data file for each city consisting only of the data fields indicated above. In the `/examples/` folder, you will see an example datafile from the [Bay Area Bike Share](http://www.bayareabikeshare.com/open-data) before and after conversion. Make sure that your output is formatted to be consistent with the example file."
   ]
  },
  {
   "cell_type": "code",
   "execution_count": 18,
   "metadata": {},
   "outputs": [],
   "source": [
    "def condense_data(in_file, out_file, city):\n",
    "    \"\"\"\n",
    "    This function takes full data from the specified input file\n",
    "    and writes the condensed data to a specified output file. The city\n",
    "    argument determines how the input file will be parsed.\n",
    "    \n",
    "    HINT: See the cell below to see how the arguments are structured!\n",
    "    \"\"\"\n",
    "    \n",
    "    with open(out_file, 'w') as f_out, open(in_file, 'r') as f_in:\n",
    "        # set up csv DictWriter object - writer requires column names for the\n",
    "        # first row as the \"fieldnames\" argument\n",
    "        out_colnames = ['duration', 'month', 'hour', 'day_of_week', 'user_type']        \n",
    "        trip_writer = csv.DictWriter(f_out, fieldnames = out_colnames)\n",
    "        trip_writer.writeheader()\n",
    "        \n",
    "        ## TODO: set up csv DictReader object ##\n",
    "        trip_reader = csv.DictReader(f_in)\n",
    "\n",
    "        # collect data from and process each row\n",
    "        for row in trip_reader:\n",
    "            # set up a dictionary to hold the values for the cleaned and trimmed\n",
    "            # data point\n",
    "            new_point = {}\n",
    "\n",
    "            ## TODO: use the helper functions to get the cleaned data from  ##\n",
    "            ## the original data dictionaries.                              ##\n",
    "            ## Note that the keys for the new_point dictionary should match ##\n",
    "            ## the column names set in the DictWriter object above.         ##\n",
    "            new_point['duration'] = duration_in_mins(row, city)\n",
    "            new_point['month'], new_point['hour'], new_point['day_of_week'] = time_of_trip(row, city)\n",
    "            new_point['user_type'] = type_of_user(row, city)\n",
    "\n",
    "            ## TODO: write the processed information to the output file.     ##\n",
    "            ## see https://docs.python.org/3/library/csv.html#writer-objects ##\n",
    "            trip_writer.writerow(new_point)\n",
    "            "
   ]
  },
  {
   "cell_type": "code",
   "execution_count": 19,
   "metadata": {},
   "outputs": [
    {
     "name": "stdout",
     "output_type": "stream",
     "text": [
      "\n",
      "City: Washington\n",
      "OrderedDict([('duration', '7.123116666666666'),\n",
      "             ('month', '3'),\n",
      "             ('hour', '22'),\n",
      "             ('day_of_week', 'Thursday'),\n",
      "             ('user_type', 'Subscriber')])\n",
      "\n",
      "City: Chicago\n",
      "OrderedDict([('duration', '15.433333333333334'),\n",
      "             ('month', '3'),\n",
      "             ('hour', '23'),\n",
      "             ('day_of_week', 'Thursday'),\n",
      "             ('user_type', 'Subscriber')])\n",
      "\n",
      "City: NYC\n",
      "OrderedDict([('duration', '13.983333333333333'),\n",
      "             ('month', '1'),\n",
      "             ('hour', '0'),\n",
      "             ('day_of_week', 'Friday'),\n",
      "             ('user_type', 'Customer')])\n"
     ]
    }
   ],
   "source": [
    "# Run this cell to check your work\n",
    "city_info = {'Washington': {'in_file': './data/Washington-CapitalBikeshare-2016.csv',\n",
    "                            'out_file': './data/Washington-2016-Summary.csv'},\n",
    "             'Chicago': {'in_file': './data/Chicago-Divvy-2016.csv',\n",
    "                         'out_file': './data/Chicago-2016-Summary.csv'},\n",
    "             'NYC': {'in_file': './data/NYC-CitiBike-2016.csv',\n",
    "                     'out_file': './data/NYC-2016-Summary.csv'}}\n",
    "\n",
    "for city, filenames in city_info.items():\n",
    "    condense_data(filenames['in_file'], filenames['out_file'], city)\n",
    "    print_first_point(filenames['out_file'])"
   ]
  },
  {
   "cell_type": "markdown",
   "metadata": {},
   "source": [
    "> **Tip**: If you save a jupyter Notebook, the output from running code blocks will also be saved. However, the state of your workspace will be reset once a new session is started. Make sure that you run all of the necessary code blocks from your previous session to reestablish variables and functions before picking up where you last left off.\n",
    "\n",
    "<a id='eda'></a>\n",
    "## Exploratory Data Analysis\n",
    "\n",
    "Now that you have the data collected and wrangled, you're ready to start exploring the data. In this section you will write some code to compute descriptive statistics from the data. You will also be introduced to the `matplotlib` library to create some basic histograms of the data.\n",
    "\n",
    "<a id='statistics'></a>\n",
    "### Statistics\n",
    "\n",
    "First, let's compute some basic counts. The first cell below contains a function that uses the csv module to iterate through a provided data file, returning the number of trips made by subscribers and customers. The second cell runs this function on the example Bay Area data in the `/examples/` folder. Modify the cells to answer the question below.\n",
    "\n",
    "**Question 4a**: Which city has the highest number of trips? Which city has the highest proportion of trips made by subscribers? Which city has the highest proportion of trips made by short-term customers? \n",
    "\n",
    "**Answer**: 1- Which city has the highest number of trips? It's NYC\n",
    "\n",
    "2- Which city has the highest proportion of trips made by subscribers? It's NYC\n",
    "\n",
    "3- Which city has the highest proportion of trips made by short-term customers? It's Chicago"
   ]
  },
  {
   "cell_type": "code",
   "execution_count": 20,
   "metadata": {},
   "outputs": [],
   "source": [
    "def number_of_trips(filename):\n",
    "    \"\"\"\n",
    "    This function reads in a file with trip data and reports the number of\n",
    "    trips made by subscribers, customers, and total overall.\n",
    "    \"\"\"\n",
    "    with open(filename, 'r') as f_in:\n",
    "        # set up csv reader object\n",
    "        reader = csv.DictReader(f_in)\n",
    "        \n",
    "        # initialize count variables\n",
    "        n_subscribers = 0\n",
    "        n_customers = 0\n",
    "        \n",
    "        # tally up ride types\n",
    "        for row in reader:\n",
    "            if row['user_type'] == 'Subscriber':\n",
    "                n_subscribers += 1\n",
    "            else:\n",
    "                n_customers += 1\n",
    "        \n",
    "        # compute total number of rides\n",
    "        n_total = n_subscribers + n_customers\n",
    "        \n",
    "        # return tallies as a tuple\n",
    "        return(n_subscribers, n_customers, n_total)"
   ]
  },
  {
   "cell_type": "code",
   "execution_count": 21,
   "metadata": {},
   "outputs": [
    {
     "name": "stdout",
     "output_type": "stream",
     "text": [
      "(51753, 14573, 66326)\n",
      "(54982, 17149, 72131)\n",
      "(245896, 30902, 276798)\n"
     ]
    }
   ],
   "source": [
    "## Modify this and the previous cell to answer Question 4a. Remember to run ##\n",
    "## the function on the cleaned data files you created from Question 3.      ##\n",
    "\n",
    "data_file_Washington = './data/Washington-2016-Summary.csv'\n",
    "data_file_Chicago = './data/Chicago-2016-Summary.csv'\n",
    "data_file_NYC = './data/NYC-2016-Summary.csv'\n",
    "print(number_of_trips(data_file_Washington))\n",
    "print(number_of_trips(data_file_Chicago))\n",
    "print(number_of_trips(data_file_NYC))"
   ]
  },
  {
   "cell_type": "code",
   "execution_count": 22,
   "metadata": {},
   "outputs": [
    {
     "name": "stdout",
     "output_type": "stream",
     "text": [
      "{1: 'Washington', 2: 'Chicago', 3: 'NYC'}\n",
      "\n",
      "Which city has the highest number of trips? >>> It's NYC\n",
      "{1: 66326, 2: 72131, 3: 276798}\n",
      "\n",
      "Which city has the highest proportion of trips made by subscribers? >>> It's NYC\n",
      "{1: 0.7802822422579381, 2: 0.7622520136973008, 3: 0.8883590199351151}\n",
      "\n",
      "Which city has the highest proportion of trips made by short-term customers? >>> It's Chicago\n",
      "{1: 0.21971775774206193, 2: 0.23774798630269925, 3: 0.11164098006488486}\n"
     ]
    }
   ],
   "source": [
    "# Create a Dict to store the user count for each city based on the user type\n",
    "trips_data = {'Washington': {'Subscribers':0, 'Customers':0, 'Total':0},\n",
    "             'Chicago': {'Subscribers':0, 'Customers':0, 'Total':0},\n",
    "             'NYC': {'Subscribers':0, 'Customers':0, 'Total':0}}\n",
    "\n",
    "# Populate the Dict using the data from each of the three csv files.\n",
    "trips_data['Washington'] = dict(zip(trips_data['Washington'].keys(), number_of_trips(data_file_Washington)))\n",
    "trips_data['Chicago'] = dict(zip(trips_data['Chicago'].keys(), number_of_trips(data_file_Chicago)))\n",
    "trips_data['NYC'] = dict(zip(trips_data['NYC'].keys(), number_of_trips(data_file_NYC)))\n",
    "\n",
    "# Dict to map each of the cities\n",
    "cities_dict = {1:'Washington' , 2:'Chicago' , 3:'NYC' }\n",
    "print(cities_dict)\n",
    "\n",
    "# Store the total trips detail for each city\n",
    "total_trips_dict = {1:trips_data['Washington']['Total'],\n",
    "                    2:trips_data['Chicago']['Total'],\n",
    "                    3:trips_data['NYC']['Total']}\n",
    "\n",
    "# Find the city with highest number of trips\n",
    "city_high_trips = max(total_trips_dict, key=total_trips_dict.get)\n",
    "print(\"\\nWhich city has the highest number of trips?\" + \" >>> It's \" + cities_dict[city_high_trips])\n",
    "print(total_trips_dict)\n",
    "\n",
    "\n",
    "# Find the proportion of trips made by Subscribers\n",
    "subs_prop_dict = {1: trips_data['Washington']['Subscribers']/trips_data['Washington']['Total'],\n",
    "                  2: trips_data['Chicago']['Subscribers']/trips_data['Chicago']['Total'],\n",
    "                  3: trips_data['NYC']['Subscribers']/trips_data['NYC']['Total']}\n",
    "\n",
    "# Find the city with highest proportion of trips by Subscribers\n",
    "city_high_prob_subs = max(subs_prop_dict, key=subs_prop_dict.get)\n",
    "print(\"\\nWhich city has the highest proportion of trips made by subscribers?\" + \" >>> It's \" + cities_dict[city_high_prob_subs])\n",
    "print(subs_prop_dict)\n",
    "\n",
    "\n",
    "# Find the proportion of trips made by Customers\n",
    "cust_prop_dict = {1: trips_data['Washington']['Customers']/trips_data['Washington']['Total'], \n",
    "                  2: trips_data['Chicago']['Customers']/trips_data['Chicago']['Total'], \n",
    "                  3: trips_data['NYC']['Customers']/trips_data['NYC']['Total']}\n",
    "\n",
    "# Find the city with highest proportion of trips by Customers\n",
    "city_high_prob_cust = max(cust_prop_dict, key=cust_prop_dict.get)\n",
    "print(\"\\nWhich city has the highest proportion of trips made by short-term customers?\" + \" >>> It's \" + cities_dict[city_high_prob_cust])\n",
    "print(cust_prop_dict)"
   ]
  },
  {
   "cell_type": "markdown",
   "metadata": {},
   "source": [
    "> **Tip**: In order to add additional cells to a notebook, you can use the \"Insert Cell Above\" and \"Insert Cell Below\" options from the menu bar above. There is also an icon in the toolbar for adding new cells, with additional icons for moving the cells up and down the document. By default, new cells are of the code type; you can also specify the cell type (e.g. Code or Markdown) of selected cells from the Cell menu or the dropdown in the toolbar.\n",
    "\n",
    "Now, you will write your own code to continue investigating properties of the data.\n",
    "\n",
    "**Question 4b**: Bike-share systems are designed for riders to take short trips. Most of the time, users are allowed to take trips of 30 minutes or less with no additional charges, with overage charges made for trips of longer than that duration. What is the average trip length for each city? What proportion of rides made in each city are longer than 30 minutes?\n",
    "\n",
    "**Answer**: What is the average trip length for each city?\n",
    "\n",
    "1-Average Trip Length of Washington = 18 Minutes\n",
    "\n",
    "2-Average Trip Length of Chicago = 16 Minutes\n",
    "\n",
    "3-Average Trip Length of NYC = 15 Minutes\n",
    "\n",
    "\n",
    "\n",
    "What proportion of rides made in each city are longer than 30 minutes?\n",
    "\n",
    "1-Percentage Trips Longer Than 30 Minutes in Washington = 10.84%\n",
    "\n",
    "2-Percentage Trips Longer Than 30 Minutes in Chicago = 8.33%\n",
    "\n",
    "3-Percentage Trips Longer Than 30 Minutes in NYC = 7.3%"
   ]
  },
  {
   "cell_type": "code",
   "execution_count": 23,
   "metadata": {
    "scrolled": true
   },
   "outputs": [],
   "source": [
    "## Use this and additional cells to answer Question 4b.                 ##\n",
    "##                                                                      ##\n",
    "## HINT: The csv module reads in all of the data as strings, including  ##\n",
    "## numeric values. You will need a function to convert the strings      ##\n",
    "## into an appropriate numeric type before you aggregate data.          ##\n",
    "## TIP: For the Bay Area example, the average trip length is 14 minutes ##\n",
    "## and 3.5% of trips are longer than 30 minutes.                        ##\n",
    "\n"
   ]
  },
  {
   "cell_type": "code",
   "execution_count": 24,
   "metadata": {},
   "outputs": [],
   "source": [
    "# Total trips for each city\n",
    "total_trips_washington = total_trips_dict[1]\n",
    "total_trips_chicago = total_trips_dict[2]\n",
    "total_trips_nyc = total_trips_dict[3]"
   ]
  },
  {
   "cell_type": "code",
   "execution_count": 25,
   "metadata": {},
   "outputs": [
    {
     "name": "stdout",
     "output_type": "stream",
     "text": [
      "\n",
      "*** Average Trip Length for each City ***\n",
      "\n",
      "Average Trip Length of Washington = 18 Minutes\n",
      "Average Trip Length of Chicago = 16 Minutes\n",
      "Average Trip Length of NYC = 15 Minutes\n"
     ]
    }
   ],
   "source": [
    "def avg_trip_length(filename, city):\n",
    "    '''\n",
    "        Get the average trip length based on the city filename\n",
    "    '''\n",
    "    with open(filename, 'r') as f_in:\n",
    "        # set up csv reader object\n",
    "        reader = csv.DictReader(f_in)\n",
    "        \n",
    "        # Initialize the variables\n",
    "        total_trip_length = 0\n",
    "        \n",
    "        # Get the total trip length\n",
    "        for row in reader:\n",
    "            total_trip_length = total_trip_length + float(row['duration'])\n",
    "        \n",
    "        # Get total number of rides for each city\n",
    "        if city == 'Washington':\n",
    "            total_trips = total_trips_washington\n",
    "        elif city == 'Chicago':\n",
    "            total_trips = total_trips_chicago\n",
    "        else:\n",
    "            total_trips = total_trips_nyc\n",
    "        \n",
    "        # return average trip length in minutes(rounded)\n",
    "        return(int(total_trip_length/total_trips))\n",
    "    \n",
    "# Get Average Trip Length for each City\n",
    "avg_trip_length_washington = avg_trip_length(data_file_Washington, 'Washington')\n",
    "avg_trip_length_chicago = avg_trip_length(data_file_Chicago, 'Chicago')\n",
    "avg_trip_length_nyc = avg_trip_length(data_file_NYC, 'NYC')\n",
    "\n",
    "# Print Average Trip Length for each City\n",
    "print(\"\\n*** Average Trip Length for each City ***\\n\")\n",
    "print(\"Average Trip Length of Washington\" + \" = \" + str(avg_trip_length_washington) + \" Minutes\")\n",
    "print(\"Average Trip Length of Chicago\" + \" = \" + str(avg_trip_length_chicago) + \" Minutes\")\n",
    "print(\"Average Trip Length of NYC\" + \" = \" + str(avg_trip_length_nyc) + \" Minutes\")"
   ]
  },
  {
   "cell_type": "code",
   "execution_count": 26,
   "metadata": {},
   "outputs": [
    {
     "name": "stdout",
     "output_type": "stream",
     "text": [
      "\n",
      "*** Percentage of trips that are longer than 30 minutes ***\n",
      "\n",
      "Percentage Trips Longer Than 30 Minutes in Washington = 10.84%\n",
      "Percentage Trips Longer Than 30 Minutes in Chicago = 8.33%\n",
      "Percentage Trips Longer Than 30 Minutes in NYC = 7.3%\n"
     ]
    }
   ],
   "source": [
    "def longer_trip_percent(filename, city):\n",
    "    '''\n",
    "        Get percent of trips that are longer than 30 minutes\n",
    "    '''\n",
    "    TRIP_DURATION = 30.0\n",
    "    with open(filename, 'r') as f_in:\n",
    "        # set up csv reader object\n",
    "        reader = csv.DictReader(f_in)\n",
    "        \n",
    "        # Initialize the variables\n",
    "        longer_trip_count = 0\n",
    "        \n",
    "        # Get the no of trips longer than 30 Minutes\n",
    "        for row in reader:\n",
    "            if float(row['duration']) > TRIP_DURATION:\n",
    "                longer_trip_count += 1\n",
    "        \n",
    "        # Get total number of rides for each city\n",
    "        if city == 'Washington':\n",
    "            total_trips = total_trips_washington\n",
    "        elif city == 'Chicago':\n",
    "            total_trips = total_trips_chicago\n",
    "        else:\n",
    "            total_trips = total_trips_nyc\n",
    "            \n",
    "        # return % of trips that are longer than 30 minutes(rounded to 2 decimal places)\n",
    "        return((round(longer_trip_count/total_trips, 4) * 100))\n",
    "\n",
    "# Get percentage of trips that are longer than 30 minutes for each city\n",
    "long_trip_per_washington = longer_trip_percent(data_file_Washington, 'Washington')\n",
    "long_trip_per_chicago = longer_trip_percent(data_file_Chicago, 'Chicago')\n",
    "long_trip_per_nyc = longer_trip_percent(data_file_NYC, 'NYC')\n",
    "\n",
    "# Print percentage of trips that are longer than 30 minutes for each city\n",
    "print(\"\\n*** Percentage of trips that are longer than 30 minutes ***\\n\")\n",
    "print(\"Percentage Trips Longer Than 30 Minutes in Washington\" + \" = \" + str(long_trip_per_washington) + \"%\")\n",
    "print(\"Percentage Trips Longer Than 30 Minutes in Chicago\" + \" = \" + str(long_trip_per_chicago) + \"%\")\n",
    "print(\"Percentage Trips Longer Than 30 Minutes in NYC\" + \" = \" + str(long_trip_per_nyc) + \"%\")"
   ]
  },
  {
   "cell_type": "markdown",
   "metadata": {},
   "source": [
    "**Question 4c**: Dig deeper into the question of trip duration based on ridership. Choose one city. Within that city, which type of user takes longer rides on average: Subscribers or Customers?\n",
    "\n",
    "**Answer**: I choose Washington city.\n",
    "\n",
    "1- The average trip length for Subscribers or Customers in Washington:\n",
    "\n",
    "Subscribers Avg Duration = 12.53; Customers Avg Duration = 41.68\n",
    "\n",
    "\n",
    "\n",
    "2- The type of user takes longer rides on average: Subscribers or Customers in Washington:\n",
    "\n",
    "In Washington Customers take longer rides than Subscribers"
   ]
  },
  {
   "cell_type": "code",
   "execution_count": 27,
   "metadata": {},
   "outputs": [],
   "source": [
    "## Use this and additional cells to answer Question 4c. If you have    ##\n",
    "## not done so yet, consider revising some of your previous code to    ##\n",
    "## make use of functions for reusability.                              ##\n",
    "##                                                                     ##\n",
    "## TIP: For the Bay Area example data, you should find the average     ##\n",
    "## Subscriber trip duration to be 9.5 minutes and the average Customer ##\n",
    "## trip duration to be 54.6 minutes. Do the other cities have this     ##\n",
    "## level of difference?                                                ##\n",
    "\n"
   ]
  },
  {
   "cell_type": "code",
   "execution_count": 28,
   "metadata": {},
   "outputs": [
    {
     "name": "stdout",
     "output_type": "stream",
     "text": [
      "\n",
      "1- The average trip length for Subscribers or Customers in Washington:\n",
      "\n",
      "Subscribers Avg Duration = 12.53; Customers Avg Duration = 41.68\n",
      "\n",
      "2- The type of user takes longer rides on average: Subscribers or Customers in Washington:\n",
      "\n",
      "In Washington Customers take longer rides than Subscribers\n"
     ]
    }
   ],
   "source": [
    "def rides_user_type(filename, city):\n",
    "    '''\n",
    "        Get the rides based on user type - Subscribers and Customers\n",
    "    '''\n",
    "    with open(filename, 'r') as f_in:\n",
    "        # set up csv reader object\n",
    "        reader = csv.DictReader(f_in)\n",
    "        \n",
    "        # initialize the variables\n",
    "        trip_length_subscribers = 0\n",
    "        trip_count_subscribers = 0\n",
    "        \n",
    "        trip_length_customers = 0\n",
    "        trip_count_customers = 0\n",
    "        \n",
    "        # Get the trip length and trip counts for Subscribers and\n",
    "        # Customers in each city.\n",
    "        for row in reader:\n",
    "            if city == 'Washington':\n",
    "                if row['user_type'] == 'Subscriber':\n",
    "                    trip_length_subscribers += float(row['duration'])\n",
    "                    trip_count_subscribers += 1\n",
    "                else:\n",
    "                    trip_length_customers += float(row['duration'])\n",
    "                    trip_count_customers += 1\n",
    "              \n",
    "       # return average trip duration for Subscribers and Customers\n",
    "        avg_trip_len_subscriber = round((trip_length_subscribers/trip_count_subscribers), 2)\n",
    "        avg_trip_len_customer = round((trip_length_customers/trip_count_customers), 2)\n",
    "        return(avg_trip_len_subscriber, avg_trip_len_customer)\n",
    "\n",
    "# Get the average trip length for Subscribers and Customers in each city.     \n",
    "avg_trip_len_subs_washington, avg_trip_len_cust_washington = rides_user_type(data_file_Washington, 'Washington')\n",
    "\n",
    "# Print the average trip length for Subscribers and Customers in each city.\n",
    "print(\"\\n1- The average trip length for Subscribers or Customers in Washington:\\n\")\n",
    "print(\"Subscribers Avg Duration = \" + str(avg_trip_len_subs_washington) + \"; Customers Avg Duration = \" + str (avg_trip_len_cust_washington))\n",
    "\n",
    "print(\"\\n2- The type of user takes longer rides on average: Subscribers or Customers in Washington:\\n\")\n",
    "\n",
    "# Print the user type - Subscribers or Customers who take longer rides each city.\n",
    "if (avg_trip_len_subs_washington > avg_trip_len_cust_washington):\n",
    "    print (\"In Washington Subscribers take longer rides than Customers\")\n",
    "else:\n",
    "    print (\"In Washington Customers take longer rides than Subscribers\")\n",
    "    "
   ]
  },
  {
   "cell_type": "markdown",
   "metadata": {},
   "source": [
    "<a id='visualizations'></a>\n",
    "### Visualizations\n",
    "\n",
    "The last set of values that you computed should have pulled up an interesting result. While the mean trip time for Subscribers is well under 30 minutes, the mean trip time for Customers is actually _above_ 30 minutes! It will be interesting for us to look at how the trip times are distributed. In order to do this, a new library will be introduced here, `matplotlib`. Run the cell below to load the library and to generate an example plot."
   ]
  },
  {
   "cell_type": "code",
   "execution_count": 29,
   "metadata": {},
   "outputs": [
    {
     "data": {
      "image/png": "[encoded data removed]",
      "text/plain": [
       "<matplotlib.figure.Figure at 0x7f1e0ef05ba8>"
      ]
     },
     "metadata": {
      "needs_background": "light"
     },
     "output_type": "display_data"
    }
   ],
   "source": [
    "# load library\n",
    "import matplotlib.pyplot as plt\n",
    "\n",
    "# this is a 'magic word' that allows for plots to be displayed\n",
    "# inline with the notebook. If you want to know more, see:\n",
    "# http://ipython.readthedocs.io/en/stable/interactive/magics.html\n",
    "%matplotlib inline \n",
    "\n",
    "# example histogram, data taken from bay area sample\n",
    "data = [ 7.65,  8.92,  7.42,  5.50, 16.17,  4.20,  8.98,  9.62, 11.48, 14.33,\n",
    "        19.02, 21.53,  3.90,  7.97,  2.62,  2.67,  3.08, 14.40, 12.90,  7.83,\n",
    "        25.12,  8.30,  4.93, 12.43, 10.60,  6.17, 10.88,  4.78, 15.15,  3.53,\n",
    "         9.43, 13.32, 11.72,  9.85,  5.22, 15.10,  3.95,  3.17,  8.78,  1.88,\n",
    "         4.55, 12.68, 12.38,  9.78,  7.63,  6.45, 17.38, 11.90, 11.52,  8.63,]\n",
    "plt.hist(data)\n",
    "plt.title('Distribution of Trip Durations')\n",
    "plt.xlabel('Duration (m)')\n",
    "plt.show()"
   ]
  },
  {
   "cell_type": "markdown",
   "metadata": {},
   "source": [
    "In the above cell, we collected fifty trip times in a list, and passed this list as the first argument to the `.hist()` function. This function performs the computations and creates plotting objects for generating a histogram, but the plot is actually not rendered until the `.show()` function is executed. The `.title()` and `.xlabel()` functions provide some labeling for plot context.\n",
    "\n",
    "You will now use these functions to create a histogram of the trip times for the city you selected in question 4c. Don't separate the Subscribers and Customers for now: just collect all of the trip times and plot them."
   ]
  },
  {
   "cell_type": "code",
   "execution_count": 30,
   "metadata": {},
   "outputs": [],
   "source": [
    "## Use this and additional cells to collect all of the trip times as a list ##\n",
    "## and then use pyplot functions to generate a histogram of trip times.     ##\n",
    "\n"
   ]
  },
  {
   "cell_type": "code",
   "execution_count": 31,
   "metadata": {},
   "outputs": [
    {
     "data": {
      "image/png": "[encoded data removed]",
      "text/plain": [
       "<matplotlib.figure.Figure at 0x7f1e0262d2e8>"
      ]
     },
     "metadata": {
      "needs_background": "light"
     },
     "output_type": "display_data"
    }
   ],
   "source": [
    "## Collect all of the trip times and use pyplot to generate a histogram of trip times.\n",
    "def trip_times(filename, city):\n",
    "    '''\n",
    "        Get the trip times for each of the cities.\n",
    "    '''\n",
    "    with open(filename, 'r') as f_in:\n",
    "        # set up csv reader object\n",
    "        reader = csv.DictReader(f_in)\n",
    "        \n",
    "        # initialize the variables\n",
    "        trip_times_washington = []\n",
    "        \n",
    "        # Create the trip time list for each city\n",
    "        for row in reader:\n",
    "            if city == 'Washington':\n",
    "                trip_times_washington.append(float(row['duration']))\n",
    "              \n",
    "        # return the trip time list for each city\n",
    "        if city == 'Washington':\n",
    "            return trip_times_washington\n",
    "\n",
    "# Get the trip time list for each city\n",
    "trip_times_washington = trip_times(data_file_Washington, 'Washington')\n",
    "\n",
    "# Plot the histogram of trip durations for each city\n",
    "plt.hist(trip_times_washington)\n",
    "plt.title('Distribution of Trip Durations in Washington')\n",
    "plt.xlabel('Duration (m)')\n",
    "plt.show()"
   ]
  },
  {
   "cell_type": "markdown",
   "metadata": {},
   "source": [
    "If you followed the use of the `.hist()` and `.show()` functions exactly like in the example, you're probably looking at a plot that's completely unexpected. The plot consists of one extremely tall bar on the left, maybe a very short second bar, and a whole lot of empty space in the center and right. Take a look at the duration values on the x-axis. This suggests that there are some highly infrequent outliers in the data. Instead of reprocessing the data, you will use additional parameters with the `.hist()` function to limit the range of data that is plotted. Documentation for the function can be found [[here]](https://matplotlib.org/devdocs/api/_as_gen/matplotlib.pyplot.hist.html#matplotlib.pyplot.hist).\n",
    "\n",
    "**Question 5**: Use the parameters of the `.hist()` function to plot the distribution of trip times for the Subscribers in your selected city. Do the same thing for only the Customers. Add limits to the plots so that only trips of duration less than 75 minutes are plotted. As a bonus, set the plots up so that bars are in five-minute wide intervals. For each group, where is the peak of each distribution? How would you describe the shape of each distribution?\n",
    "\n",
    "**Answer**: 1- Where is the peak of each distribution, for each group?\n",
    "\n",
    "The peak is approximately at the Average Trip Duration (Mean).\n",
    "\n",
    "\n",
    "\n",
    "2- How would you describe the shape of each distribution?\n",
    "\n",
    "Both distributions are skewed to the right."
   ]
  },
  {
   "cell_type": "code",
   "execution_count": 32,
   "metadata": {},
   "outputs": [],
   "source": [
    "## Use this and additional cells to answer Question 5. ##"
   ]
  },
  {
   "cell_type": "code",
   "execution_count": 33,
   "metadata": {},
   "outputs": [],
   "source": [
    "def trip_times_subs_cust(filename, city):\n",
    "    '''\n",
    "        Get the trip times for each of the cities.\n",
    "    '''\n",
    "    with open(filename, 'r') as f_in:\n",
    "        # set up csv reader object\n",
    "        reader = csv.DictReader(f_in)\n",
    "        \n",
    "        # initialize the variables\n",
    "        trip_times_subs_washington = []\n",
    "        trip_times_cust_washington = []\n",
    "        \n",
    "        # Get the trip times for Subscribers and Customers for each city\n",
    "        for row in reader:\n",
    "            if city == 'Washington':\n",
    "                if row['user_type'] == 'Subscriber':\n",
    "                    trip_times_subs_washington.append(float(row['duration']))\n",
    "                else:\n",
    "                    trip_times_cust_washington.append(float(row['duration']))\n",
    "              \n",
    "        # return trip duration of Subscribers and Customers for each city\n",
    "        if city == 'Washington':\n",
    "            return (trip_times_subs_washington, trip_times_cust_washington)\n",
    "\n",
    "# Get trip duration of Subscribers and Customers for each city\n",
    "trip_times_subs_washington, trip_times_cust_washington = trip_times_subs_cust(data_file_Washington, 'Washington')"
   ]
  },
  {
   "cell_type": "code",
   "execution_count": 34,
   "metadata": {},
   "outputs": [
    {
     "data": {
      "image/png": "[encoded data removed]",
      "text/plain": [
       "<matplotlib.figure.Figure at 0x7f1e026357b8>"
      ]
     },
     "metadata": {
      "needs_background": "light"
     },
     "output_type": "display_data"
    }
   ],
   "source": [
    "import matplotlib.ticker\n",
    "# Plot the histogram of trip durations for Washington users\n",
    "f, (plt1, plt2) = plt.subplots(2, sharey=True)\n",
    "plt1.hist(trip_times_subs_washington, range = (0, 75), bins = 16)\n",
    "plt1.set_title('The Distribution of Trip Duration for Subscribers in Washington')\n",
    "plt1.set_xlabel('Time in Minutes')\n",
    "plt1.set_ylabel(\"Trip Duration in Minutes\")\n",
    "plt1.xaxis.set_major_locator(matplotlib.ticker.MultipleLocator(5))\n",
    "\n",
    "plt2.hist(trip_times_cust_washington, range = (0, 75), bins = 16)\n",
    "plt2.set_title('The Distribution of Trip Dutration for Customers in Washington')\n",
    "plt2.set_xlabel('Time in Minutes')\n",
    "plt2.set_ylabel(\"Trip Duration in Minutes\")\n",
    "plt2.xaxis.set_major_locator(matplotlib.ticker.MultipleLocator(5))\n",
    "f.subplots_adjust(hspace=0.25)\n",
    "f.set_figheight(10)\n",
    "f.set_figwidth(15)\n",
    "plt.show()"
   ]
  },
  {
   "cell_type": "markdown",
   "metadata": {
    "collapsed": true
   },
   "source": [
    "<a id='eda_continued'></a>\n",
    "## Performing Your Own Analysis\n",
    "\n",
    "So far, you've performed an initial exploration into the data available. You have compared the relative volume of trips made between three U.S. cities and the ratio of trips made by Subscribers and Customers. For one of these cities, you have investigated differences between Subscribers and Customers in terms of how long a typical trip lasts. Now it is your turn to continue the exploration in a direction that you choose. Here are a few suggestions for questions to explore:\n",
    "\n",
    "- How does ridership differ by month or season? Which month / season has the highest ridership? Does the ratio of Subscriber trips to Customer trips change depending on the month or season?\n",
    "- Is the pattern of ridership different on the weekends versus weekdays? On what days are Subscribers most likely to use the system? What about Customers? Does the average duration of rides change depending on the day of the week?\n",
    "- During what time of day is the system used the most? Is there a difference in usage patterns for Subscribers and Customers?\n",
    "\n",
    "If any of the questions you posed in your answer to question 1 align with the bullet points above, this is a good opportunity to investigate one of them. As part of your investigation, you will need to create a visualization. If you want to create something other than a histogram, then you might want to consult the [Pyplot documentation](https://matplotlib.org/devdocs/api/pyplot_summary.html). In particular, if you are plotting values across a categorical variable (e.g. city, user type), a bar chart will be useful. The [documentation page for `.bar()`](https://matplotlib.org/devdocs/api/_as_gen/matplotlib.pyplot.bar.html#matplotlib.pyplot.bar) includes links at the bottom of the page with examples for you to build off of for your own use.\n",
    "\n",
    "**Question 6**: Continue the investigation by exploring another question that could be answered by the data available. Document the question you want to explore below. Your investigation should involve at least two variables and should compare at least two groups. You should also use at least one visualization as part of your explorations.\n",
    "\n",
    "**Answer**: 1- How does ridership differ in Washington by month or season? Which month/season has the highest ridership?>>> The ridership in Washington was increasing from the first month until the seventh month, then started to decrease. The highest ridership was in the seventh month (July). \n",
    "\n",
    "\n",
    "2- Does the ratio of Subscriber trips to Customer trips change depending on the month or season?>>> Yes, it does. The highest ratio was in the first month and the second month (January and February).\n",
    "\n",
    "\n",
    "3- Is the pattern of ridership different on the weekends versus weekdays?>>> Yes, it is. The average duration trips in weekdays are higher than at weekends.\n",
    "\n",
    "\n",
    "4- On what days are Subscribers most likely to use the system?>>> They are Wednesday and Thursday (weekdays).\n",
    "\n",
    "\n",
    "5- What about Customers?>>> On Saturday and Sunday (weekends).\n"
   ]
  },
  {
   "cell_type": "code",
   "execution_count": 35,
   "metadata": {},
   "outputs": [],
   "source": [
    "## Use this and additional cells to continue to explore the dataset. ##\n",
    "## Once you have performed your exploration, document your findings  ##\n",
    "## in the Markdown cell above.                                       ##"
   ]
  },
  {
   "cell_type": "code",
   "execution_count": 36,
   "metadata": {},
   "outputs": [
    {
     "name": "stdout",
     "output_type": "stream",
     "text": [
      "Ridership by Month for Washington => {1: 31140.223600000107, 2: 36565.14208333328, 3: 110075.18485000047, 4: 109825.68944999986, 5: 116117.24186666649, 6: 153950.80770000006, 7: 168083.57223333383, 8: 134724.9150000009, 9: 131644.45458333314, 10: 125110.32186666655, 11: 89993.60525000017, 12: 48510.61320000002}\n"
     ]
    },
    {
     "data": {
      "image/png": "[encoded data removed]",
      "text/plain": [
       "<matplotlib.figure.Figure at 0x7f1e02157a58>"
      ]
     },
     "metadata": {
      "needs_background": "light"
     },
     "output_type": "display_data"
    }
   ],
   "source": [
    "# How does ridership differ by month or season? Which month / season has the highest ridership?\n",
    "def duration_by_month(filename):\n",
    "    with open(filename, 'r') as f_in:\n",
    "        # set up csv reader object\n",
    "        reader = csv.DictReader(f_in)\n",
    "        \n",
    "        # Initialize the dict to hold trip duration by month\n",
    "        dur_month = {1:0, 2:0, 3:0, 4: 0, 5:0, 6:0, 7:0, 8:0, 9:0, 10:0, 11:0, 12:0}\n",
    "        \n",
    "        # Get the trip duration by month\n",
    "        for row in reader:\n",
    "            dur_month[int(row['month'])] += float(row['duration'])\n",
    "                \n",
    "        return (dur_month)\n",
    "\n",
    "\n",
    "dur_by_month_Washington = duration_by_month(data_file_Washington)\n",
    "print(\"Ridership by Month for Washington => \"+ str(dur_by_month_Washington))\n",
    "\n",
    "no_of_months = range(12)\n",
    "plt.figure(figsize=(15,7))\n",
    "plt.bar(no_of_months, dur_by_month_Washington.values(), color='b', align='center')\n",
    "plt.xticks(no_of_months, dur_by_month_Washington.keys())\n",
    "plt.xlabel(\"Month of the Year\")\n",
    "plt.ylabel(\"Trip Duration in Minutes\")\n",
    "plt.title(\"Ridership by Month for Washington\", fontsize=15)\n",
    "plt.show()"
   ]
  },
  {
   "cell_type": "code",
   "execution_count": 37,
   "metadata": {},
   "outputs": [
    {
     "name": "stdout",
     "output_type": "stream",
     "text": [
      "Subscriber Trips by Month => {1: 2212, 2: 2571, 3: 4383, 4: 4410, 5: 4520, 6: 5613, 7: 5155, 8: 5392, 9: 5204, 10: 5232, 11: 4139, 12: 2922}\n",
      "Customer Trips by Month => {1: 222, 2: 283, 3: 1188, 4: 1192, 5: 1248, 6: 1707, 7: 2186, 8: 1806, 9: 1674, 10: 1560, 11: 1075, 12: 432}\n"
     ]
    },
    {
     "data": {
      "image/png": "[encoded data removed]",
      "text/plain": [
       "<matplotlib.figure.Figure at 0x7f1e02143550>"
      ]
     },
     "metadata": {
      "needs_background": "light"
     },
     "output_type": "display_data"
    },
    {
     "name": "stdout",
     "output_type": "stream",
     "text": [
      "Ratio of Subscriber to Customer Trips => {1: 9.96, 2: 9.08, 3: 3.69, 4: 3.7, 5: 3.62, 6: 3.29, 7: 2.36, 8: 2.99, 9: 3.11, 10: 3.35, 11: 3.85, 12: 6.76}\n"
     ]
    },
    {
     "data": {
      "image/png": "[encoded data removed]",
      "text/plain": [
       "<matplotlib.figure.Figure at 0x7f1e02026198>"
      ]
     },
     "metadata": {
      "needs_background": "light"
     },
     "output_type": "display_data"
    }
   ],
   "source": [
    "# Does the ratio of Subscriber trips to Customer trips change depending on the month or season?\n",
    "def trips_by_month(filename, user_type):\n",
    "    with open(filename, 'r') as f_in:\n",
    "        # set up csv reader object\n",
    "        reader = csv.DictReader(f_in)\n",
    "        \n",
    "        # Initialize the dict to hold trips by month\n",
    "        trips_month = {1:0, 2:0, 3:0, 4: 0, 5:0, 6:0, 7:0, 8:0, 9:0, 10:0, 11:0, 12:0}\n",
    "        \n",
    "        # Get the trips for each month for different users\n",
    "        for row in reader:\n",
    "            if user_type == 'Subscriber' and row['user_type'] == 'Subscriber':\n",
    "                trips_month[int(row['month'])] += 1\n",
    "            elif user_type == 'Customer' and row['user_type'] == 'Customer':\n",
    "                trips_month[int(row['month'])] += 1\n",
    "                \n",
    "        return (trips_month)\n",
    "\n",
    "\n",
    "trips_month_subs = trips_by_month(data_file_Washington, 'Subscriber')\n",
    "print(\"Subscriber Trips by Month => \" + str(trips_month_subs))\n",
    "\n",
    "trips_month_cust = trips_by_month(data_file_Washington, 'Customer')\n",
    "print(\"Customer Trips by Month => \" + str(trips_month_cust))\n",
    "\n",
    "no_of_months = range(12)\n",
    "plt.figure(figsize=(15,7))\n",
    "plt.bar(no_of_months, trips_month_subs.values(), color='b', align='center')\n",
    "plt.bar(no_of_months, trips_month_cust.values(), color='c', align='center')\n",
    "plt.legend(('Subscriber Trips','Customer Trips'))\n",
    "plt.xticks(no_of_months, trips_month_subs.keys())\n",
    "plt.xlabel(\"Month of the Year\")\n",
    "plt.ylabel(\"No. of Trips\")\n",
    "plt.title(\"Ratio of Subscriber Trips to Customer Trips\", fontsize=15)\n",
    "plt.show()\n",
    "\n",
    "# Get the Ratio of Subscriber Trips to Customer Trips\n",
    "ratio_of_trips = {mon: round(trips_month_subs[mon]/trips_month_cust[mon],2) for mon in trips_month_subs}\n",
    "print(\"Ratio of Subscriber to Customer Trips => \" + str(ratio_of_trips))\n",
    "\n",
    "no_of_months = range(12)\n",
    "plt.figure(figsize=(15,7))\n",
    "plt.bar(no_of_months, ratio_of_trips.values(), color='g', align='center')\n",
    "plt.xticks(no_of_months, ratio_of_trips.keys())\n",
    "plt.xlabel('Month of the Year')\n",
    "plt.ylabel(\"Trip Ratio's\")\n",
    "plt.title(\"Ratio of Subscriber Trips to Customer Trips\", fontsize=15)\n",
    "plt.show()"
   ]
  },
  {
   "cell_type": "code",
   "execution_count": 38,
   "metadata": {},
   "outputs": [
    {
     "data": {
      "image/png": "[encoded data removed]",
      "text/plain": [
       "<matplotlib.figure.Figure at 0x7f1e0eea40b8>"
      ]
     },
     "metadata": {
      "needs_background": "light"
     },
     "output_type": "display_data"
    }
   ],
   "source": [
    "# Is the pattern of ridership different on the weekends versus weekdays?\n",
    "def trips_by_day_of_week(filename):\n",
    "    with open(filename, 'r') as f_in:\n",
    "        # set up csv reader object\n",
    "        reader = csv.DictReader(f_in)\n",
    "        \n",
    "        # initialize the variables\n",
    "        weekend_duration = []\n",
    "        weekend_no_of_rides = 0\n",
    "        \n",
    "        weekday_duration = []\n",
    "        weekday_no_of_rides = 0\n",
    "        \n",
    "        # Get the trip count and duration for weekends and weekdays.\n",
    "        for row in reader:\n",
    "            if row['day_of_week'] == 'Saturday' or row['day_of_week'] == 'Sunday':\n",
    "                weekend_duration.append(float(row['duration']))\n",
    "                weekend_no_of_rides += 1\n",
    "            else:\n",
    "                weekday_duration.append(float(row['duration']))\n",
    "                weekday_no_of_rides += 1\n",
    "            \n",
    "        return (weekend_duration, weekend_no_of_rides, weekday_duration, weekday_no_of_rides)\n",
    "\n",
    "weekend_duration, weekend_no_of_rides, weekday_duration, weekday_no_of_rides = trips_by_day_of_week(data_file_Washington)\n",
    "\n",
    "# Plot the histograms\n",
    "f, (plt1, plt2) = plt.subplots(2, sharey=True)\n",
    "plt1.hist(weekend_duration, range = (0, 75), bins = 16)\n",
    "plt1.set_title('Pattern of Ridership for Washington Subscribers over Weekends')\n",
    "plt1.set_xlabel('Trip Duration in Minutes')\n",
    "plt1.set_ylabel(\"No. of Trips\")\n",
    "plt1.xaxis.set_major_locator(matplotlib.ticker.MultipleLocator(5))\n",
    "\n",
    "plt2.hist(weekday_duration, range = (0, 75), bins = 16)\n",
    "plt2.set_title('Pattern of Ridership for Washington Customers over Weekdays')\n",
    "plt2.set_xlabel('Trip Duration in Minutes')\n",
    "plt2.set_ylabel(\"No. of Trips\")\n",
    "plt2.xaxis.set_major_locator(matplotlib.ticker.MultipleLocator(5))\n",
    "\n",
    "f.subplots_adjust(hspace=0.25)\n",
    "f.set_figheight(10)\n",
    "f.set_figwidth(15)\n",
    "plt.show()"
   ]
  },
  {
   "cell_type": "code",
   "execution_count": 39,
   "metadata": {},
   "outputs": [
    {
     "name": "stdout",
     "output_type": "stream",
     "text": [
      "Subscriber Trips by Day of Week => {1: 7658, 2: 8322, 3: 8520, 4: 8454, 5: 7958, 6: 5589, 7: 5252}\n",
      "Customer Trips by Day of Week => {1: 1736, 2: 1426, 3: 1583, 4: 1530, 5: 2012, 6: 3311, 7: 2975}\n"
     ]
    },
    {
     "data": {
      "image/png": "[encoded data removed]",
      "text/plain": [
       "<matplotlib.figure.Figure at 0x7f1e01a7c860>"
      ]
     },
     "metadata": {
      "needs_background": "light"
     },
     "output_type": "display_data"
    }
   ],
   "source": [
    "# On what days are Subscribers most likely to use the system? What about Customers?\n",
    "# Does the average duration of rides change depending on the day of the week?\n",
    "def trips_by_day(filename, user_type):\n",
    "    with open(filename, 'r') as f_in:\n",
    "        # set up csv reader object\n",
    "        reader = csv.DictReader(f_in)\n",
    "        \n",
    "        # initialize the variables\n",
    "        days_of_week = {'Monday':1, 'Tuesday':2, 'Wednesday':3, 'Thursday':4, 'Friday':5, 'Saturday':6, 'Sunday':7}\n",
    "        trips_day_of_week = {1:0, 2:0, 3:0, 4:0, 5:0, 6:0, 7:0}\n",
    "        \n",
    "        # Get the trip count for Subscribers and Customers for each day of the week\n",
    "        for row in reader:\n",
    "            if user_type == 'Subscriber' and row['user_type'] == 'Subscriber':\n",
    "                trips_day_of_week[days_of_week[row['day_of_week']]] += 1\n",
    "            elif user_type == 'Customer' and row['user_type'] == 'Customer':\n",
    "                trips_day_of_week[days_of_week[row['day_of_week']]] += 1\n",
    "                \n",
    "        return (trips_day_of_week)\n",
    "\n",
    "day_of_weeks_list = ['Mon', 'Tue', 'Wed', 'Thu', 'Fri', 'Sat', 'Sun']\n",
    "\n",
    "trips_day_of_week_subs = trips_by_day(data_file_Washington, 'Subscriber')\n",
    "print(\"Subscriber Trips by Day of Week => \" + str(trips_day_of_week_subs))\n",
    "\n",
    "trips_day_of_week_cust = trips_by_day(data_file_Washington, 'Customer')\n",
    "print(\"Customer Trips by Day of Week => \" + str(trips_day_of_week_cust))\n",
    "\n",
    "# Plot the bar chart for Washington Subscribers\n",
    "f, (plt1, plt2) = plt.subplots(2, sharey=True)\n",
    "plt1.bar(list(trips_day_of_week_subs.keys()), trips_day_of_week_subs.values())\n",
    "plt1.set_xticks(list(trips_day_of_week_subs.keys()))\n",
    "plt1.set_xticklabels(['Mon', 'Tue', 'Wed', 'Thu', 'Fri', 'Sat', 'Sun'])\n",
    "plt1.set_xlabel(\"Day of the Week\")\n",
    "plt1.set_ylabel('No of Trips')\n",
    "plt1.set_title('Distribution of Trips for Washington Subscribers by Day')\n",
    "\n",
    "# Plot the bar chart for Washington Customers\n",
    "plt2.bar(list(trips_day_of_week_cust.keys()), trips_day_of_week_cust.values())\n",
    "plt2.set_xticks(list(trips_day_of_week_cust.keys()))\n",
    "plt2.set_xticklabels(['Mon', 'Tue', 'Wed', 'Thu', 'Fri', 'Sat', 'Sun'])\n",
    "plt2.set_xlabel(\"Day of the Week\")\n",
    "plt2.set_ylabel('No of Trips')\n",
    "plt2.set_title('Distribution of Trips for Washington Customers by Day')\n",
    "\n",
    "f.subplots_adjust(hspace=0.25)\n",
    "f.set_figheight(10)\n",
    "f.set_figwidth(15)\n",
    "plt.show()"
   ]
  },
  {
   "cell_type": "markdown",
   "metadata": {},
   "source": [
    "<a id='conclusions'></a>\n",
    "## Conclusions\n",
    "\n",
    "Congratulations on completing the project! This is only a sampling of the data analysis process: from generating questions, wrangling the data, and to exploring the data. Normally, at this point in the data analysis process, you might want to draw conclusions about the data by performing a statistical test or fitting the data to a model for making predictions. There are also a lot of potential analyses that could be performed on the data which are not possible with only the data provided. For example, detailed location data has not been investigated. Where are the most commonly used docks? What are the most common routes? As another example, weather has potential to have a large impact on daily ridership. How much is ridership impacted when there is rain or snow? Are subscribers or customers affected more by changes in weather?\n",
    "\n",
    "**Question 7**: Putting the bike share data aside, think of a topic or field of interest where you would like to be able to apply the techniques of data science. What would you like to be able to learn from your chosen subject?\n",
    "\n",
    "**Answer**: I'll be interested to apply the techniques of data science on online employers in Udacity. \n",
    "\n",
    "Where are they from? \n",
    "\n",
    "Which are the most countries/cities that online employers in Udacity work from?\n",
    "\n",
    "What are their qualifications?\n",
    "\n",
    "> **Tip**: If we want to share the results of our analysis with others, we aren't limited to giving them a copy of the jupyter Notebook (.ipynb) file. We can also export the Notebook output in a form that can be opened even for those without Python installed. From the **File** menu in the upper left, go to the **Download as** submenu. You can then choose a different format that can be viewed more generally, such as HTML (.html) or\n",
    "PDF (.pdf). You may need additional packages or software to perform these exports.\n",
    "\n",
    "> If you are working on this project via the Project Notebook page in the classroom, you can also submit this project directly from the workspace. **Before you do that**, you should save an HTML copy of the completed project to the workspace by running the code cell below. If it worked correctly, the output code should be a 0, and if you click on the jupyter icon in the upper left, you should see your .html document in the workspace directory. Alternatively, you can download the .html copy of your report following the steps in the previous paragraph, then _upload_ the report to the directory (by clicking the jupyter icon).\n",
    "\n",
    "> Either way, once you've gotten the .html report in your workspace, you can complete your submission by clicking on the \"Submit Project\" button to the lower-right hand side of the workspace."
   ]
  },
  {
   "cell_type": "code",
   "execution_count": null,
   "metadata": {},
   "outputs": [],
   "source": [
    "from subprocess import call\n",
    "call(['python', '-m', 'nbconvert', 'Bike_Share_Analysis.ipynb'])"
   ]
  },
  {
   "cell_type": "code",
   "execution_count": null,
   "metadata": {},
   "outputs": [],
   "source": []
  }
 ],
 "metadata": {
  "anaconda-cloud": {},
  "kernelspec": {
   "display_name": "Python 3",
   "language": "python",
   "name": "python3"
  },
  "language_info": {
   "codemirror_mode": {
    "name": "ipython",
    "version": 3
   },
   "file_extension": ".py",
   "mimetype": "text/x-python",
   "name": "python",
   "nbconvert_exporter": "python",
   "pygments_lexer": "ipython3",
   "version": "3.6.3"
  }
 },
 "nbformat": 4,
 "nbformat_minor": 1
}
